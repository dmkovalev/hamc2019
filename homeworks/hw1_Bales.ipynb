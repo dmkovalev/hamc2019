{
 "cells": [
  {
   "cell_type": "markdown",
   "metadata": {},
   "source": [
    "# Homework 1\n",
    "***\n",
    "\n",
    "We are going to work with the following dataset: fluid current in a tube.\n",
    "Some statistics are collected for dataset, incl. mean, skewness, kurtosis, etc. We are predicting flow rate ('tohn/hour'). We need to build confidence and predictive intervals."
   ]
  },
  {
   "cell_type": "code",
   "execution_count": 25,
   "metadata": {},
   "outputs": [],
   "source": [
    "import numpy as np\n",
    "from sklearn import datasets, linear_model, preprocessing, model_selection\n",
    "from sklearn.utils import shuffle\n",
    "import matplotlib.pyplot as plt\n",
    "import pandas as pd\n",
    "from scipy.stats import t, sem"
   ]
  },
  {
   "cell_type": "code",
   "execution_count": 26,
   "metadata": {},
   "outputs": [],
   "source": [
    "df = pd.read_csv('exxsol_data.csv', sep=';', header=(0))"
   ]
  },
  {
   "cell_type": "markdown",
   "metadata": {},
   "source": [
    "There are 10 features and 1 label to predict:"
   ]
  },
  {
   "cell_type": "code",
   "execution_count": 27,
   "metadata": {},
   "outputs": [
    {
     "data": {
      "text/html": [
       "<div>\n",
       "<style scoped>\n",
       "    .dataframe tbody tr th:only-of-type {\n",
       "        vertical-align: middle;\n",
       "    }\n",
       "\n",
       "    .dataframe tbody tr th {\n",
       "        vertical-align: top;\n",
       "    }\n",
       "\n",
       "    .dataframe thead th {\n",
       "        text-align: right;\n",
       "    }\n",
       "</style>\n",
       "<table border=\"1\" class=\"dataframe\">\n",
       "  <thead>\n",
       "    <tr style=\"text-align: right;\">\n",
       "      <th></th>\n",
       "      <th>mean</th>\n",
       "      <th>std</th>\n",
       "      <th>skew</th>\n",
       "      <th>kurt</th>\n",
       "      <th>RMS</th>\n",
       "      <th>crest</th>\n",
       "      <th>freq_peak</th>\n",
       "      <th>shan</th>\n",
       "      <th>perm</th>\n",
       "      <th>temp</th>\n",
       "      <th>tohn/hour</th>\n",
       "    </tr>\n",
       "  </thead>\n",
       "  <tbody>\n",
       "    <tr>\n",
       "      <th>0</th>\n",
       "      <td>0.025639</td>\n",
       "      <td>0.946336</td>\n",
       "      <td>-0.034895</td>\n",
       "      <td>-1.491265</td>\n",
       "      <td>0.946674</td>\n",
       "      <td>0.888424</td>\n",
       "      <td>526.01052</td>\n",
       "      <td>9.584955</td>\n",
       "      <td>1.000464</td>\n",
       "      <td>21.14</td>\n",
       "      <td>3.49</td>\n",
       "    </tr>\n",
       "    <tr>\n",
       "      <th>1</th>\n",
       "      <td>0.025639</td>\n",
       "      <td>0.946336</td>\n",
       "      <td>-0.034895</td>\n",
       "      <td>-1.491265</td>\n",
       "      <td>0.946674</td>\n",
       "      <td>0.888424</td>\n",
       "      <td>526.01052</td>\n",
       "      <td>9.584955</td>\n",
       "      <td>1.000464</td>\n",
       "      <td>21.14</td>\n",
       "      <td>3.49</td>\n",
       "    </tr>\n",
       "    <tr>\n",
       "      <th>2</th>\n",
       "      <td>0.016856</td>\n",
       "      <td>0.952439</td>\n",
       "      <td>-0.037338</td>\n",
       "      <td>-1.504434</td>\n",
       "      <td>0.952579</td>\n",
       "      <td>0.943467</td>\n",
       "      <td>530.01060</td>\n",
       "      <td>9.402718</td>\n",
       "      <td>0.991088</td>\n",
       "      <td>21.14</td>\n",
       "      <td>3.49</td>\n",
       "    </tr>\n",
       "    <tr>\n",
       "      <th>3</th>\n",
       "      <td>0.016856</td>\n",
       "      <td>0.952439</td>\n",
       "      <td>-0.037338</td>\n",
       "      <td>-1.504434</td>\n",
       "      <td>0.952579</td>\n",
       "      <td>0.943467</td>\n",
       "      <td>530.01060</td>\n",
       "      <td>9.402718</td>\n",
       "      <td>0.991088</td>\n",
       "      <td>21.14</td>\n",
       "      <td>3.49</td>\n",
       "    </tr>\n",
       "    <tr>\n",
       "      <th>4</th>\n",
       "      <td>0.031998</td>\n",
       "      <td>0.972590</td>\n",
       "      <td>-0.056116</td>\n",
       "      <td>-1.546518</td>\n",
       "      <td>0.973106</td>\n",
       "      <td>0.921600</td>\n",
       "      <td>256.00512</td>\n",
       "      <td>9.020444</td>\n",
       "      <td>0.973701</td>\n",
       "      <td>21.14</td>\n",
       "      <td>3.56</td>\n",
       "    </tr>\n",
       "  </tbody>\n",
       "</table>\n",
       "</div>"
      ],
      "text/plain": [
       "       mean       std      skew      kurt       RMS     crest  freq_peak  \\\n",
       "0  0.025639  0.946336 -0.034895 -1.491265  0.946674  0.888424  526.01052   \n",
       "1  0.025639  0.946336 -0.034895 -1.491265  0.946674  0.888424  526.01052   \n",
       "2  0.016856  0.952439 -0.037338 -1.504434  0.952579  0.943467  530.01060   \n",
       "3  0.016856  0.952439 -0.037338 -1.504434  0.952579  0.943467  530.01060   \n",
       "4  0.031998  0.972590 -0.056116 -1.546518  0.973106  0.921600  256.00512   \n",
       "\n",
       "       shan      perm   temp  tohn/hour  \n",
       "0  9.584955  1.000464  21.14       3.49  \n",
       "1  9.584955  1.000464  21.14       3.49  \n",
       "2  9.402718  0.991088  21.14       3.49  \n",
       "3  9.402718  0.991088  21.14       3.49  \n",
       "4  9.020444  0.973701  21.14       3.56  "
      ]
     },
     "execution_count": 27,
     "metadata": {},
     "output_type": "execute_result"
    }
   ],
   "source": [
    "df.head()"
   ]
  },
  {
   "cell_type": "code",
   "execution_count": 28,
   "metadata": {},
   "outputs": [],
   "source": [
    "y = df['tohn/hour']\n",
    "freq_temp = df[['freq_peak','temp']]"
   ]
  },
  {
   "cell_type": "markdown",
   "metadata": {},
   "source": [
    "Physics tells us that flow rate is a function of a frequency peak and temperature."
   ]
  },
  {
   "cell_type": "code",
   "execution_count": 29,
   "metadata": {},
   "outputs": [],
   "source": [
    "freq_temp, y = shuffle(freq_temp, y)\n",
    "\n",
    "# split data into training and testing sets\n",
    "#from sklearn.model_selection import train_test_split\n",
    "#train_freq, test_freq, train_y, test_y = train_test_split(freq, y, train_size=0.7, random_state=2)\n",
    "\n",
    "lr = linear_model.LinearRegression()\n",
    "predicted = model_selection.cross_val_predict(lr, freq_temp, y.ravel(), cv=20)\n",
    "score = model_selection.cross_val_score(lr, freq_temp, y, scoring='r2',cv=20)"
   ]
  },
  {
   "cell_type": "markdown",
   "metadata": {},
   "source": [
    "## Q0: Build point estimate for mean r2 score and its deviation"
   ]
  },
  {
   "cell_type": "code",
   "execution_count": 31,
   "metadata": {},
   "outputs": [
    {
     "name": "stdout",
     "output_type": "stream",
     "text": [
      "Mean r2 score 0.8248989362962857\n",
      "Deviation r2 score 0.0770382586118165\n"
     ]
    }
   ],
   "source": [
    "mean = np.mean(score)\n",
    "std = np.std(score)\n",
    "\n",
    "print('Mean r2 score', mean)\n",
    "print('Deviation r2 score', std)"
   ]
  },
  {
   "cell_type": "markdown",
   "metadata": {},
   "source": [
    "## Q1: Predicted is an array with predictions of the label y. Assuming, that $\\sigma = 0.1$, compute 95% confidence and predictive interval for mean squared error. "
   ]
  },
  {
   "cell_type": "code",
   "execution_count": 32,
   "metadata": {},
   "outputs": [
    {
     "name": "stdout",
     "output_type": "stream",
     "text": [
      "n =  700\n",
      "Confidence interval with a known sigma 0.15582143538813895 0.17063764273010065\n",
      "Predictive interval with a known sigma 0.0682295390591198 0.25822953905911983\n"
     ]
    }
   ],
   "source": [
    "sigma = 0.1\n",
    "conf = 0.95\n",
    "z = 1.96 # for 95% confidence\n",
    "mse = (predicted - y) ** 2\n",
    "n = len(mse)\n",
    "mse_mean = np.mean(mse)\n",
    "\n",
    "print('n = ', n)\n",
    "print('Confidence interval with a known sigma', mse_mean - z * sigma / np.sqrt(n), mse_mean + z * sigma / np.sqrt(n))\n",
    "print('Predictive interval with a known sigma', mse_mean - conf * sigma, mse_mean + conf * sigma)"
   ]
  },
  {
   "cell_type": "markdown",
   "metadata": {},
   "source": [
    "## Q2:  Compute 95% confidence and predicted intervals for mean squared error, assuming no knowledge about sigma"
   ]
  },
  {
   "cell_type": "code",
   "execution_count": 33,
   "metadata": {},
   "outputs": [
    {
     "name": "stdout",
     "output_type": "stream",
     "text": [
      "Confidence interval with a unknowned sigma 0.16224904728311476 0.16421003083512484\n",
      "Predictive interval with a unknowned sigma 0.15067745465669458 0.17578162346154502\n"
     ]
    }
   ],
   "source": [
    "mse_std = sem(mse)\n",
    "t_a = t.ppf((1 + conf) / 2, n - 1)\n",
    "\n",
    "print('Confidence interval with a unknowned sigma', mse_mean - t_a * mse_std / np.sqrt(n), mse_mean + t_a * mse_std / np.sqrt(n))\n",
    "print('Predictive interval with a unknowned sigma', mse_mean - conf * mse_std, mse_mean + conf * mse_std)"
   ]
  },
  {
   "cell_type": "markdown",
   "metadata": {},
   "source": [
    "We can use additional features and more complex model, e.g. ElasticNet."
   ]
  },
  {
   "cell_type": "code",
   "execution_count": 34,
   "metadata": {},
   "outputs": [],
   "source": [
    "y = df['tohn/hour']\n",
    "X = df.drop(['tohn/hour'], axis=1)\n",
    "X = preprocessing.scale(X)\n",
    "X, y = shuffle(X, y)\n",
    "\n",
    "encv = linear_model.ElasticNetCV(cv=10, max_iter=3000, n_alphas=10)\n",
    "predicted_encv = model_selection.cross_val_predict(encv, X, y.ravel(), cv=20)\n",
    "score_encv = model_selection.cross_val_score(encv, X, y.ravel(), scoring='r2', cv=20)"
   ]
  },
  {
   "cell_type": "markdown",
   "metadata": {},
   "source": [
    "## Q3:  Compute 95% confidence interval for difference in means of mean squared error between 2 models, assuming no knowledge about $\\sigma$."
   ]
  },
  {
   "cell_type": "code",
   "execution_count": 35,
   "metadata": {},
   "outputs": [
    {
     "name": "stdout",
     "output_type": "stream",
     "text": [
      "Confidence interval 1.7573102888988776 1.7708648077689455\n"
     ]
    }
   ],
   "source": [
    "conf = 0.95\n",
    "diffs = (predicted - y) ** 2 - (predicted_encv - y) ** 2\n",
    "n = len(diffs)\n",
    "std_diffs = sem(diffs)\n",
    "mean_diffs = np.mean(diffs)\n",
    "t_a = t.ppf((1 + conf) / 2, n - 1)\n",
    "\n",
    "print('Confidence interval', mean_diffs - t_a * std_diffs / np.sqrt(n), mean_diffs + t_a * std_diffs / np.sqrt(n))"
   ]
  }
 ],
 "metadata": {
  "kernelspec": {
   "display_name": "Python 3",
   "language": "python",
   "name": "python3"
  },
  "language_info": {
   "codemirror_mode": {
    "name": "ipython",
    "version": 3
   },
   "file_extension": ".py",
   "mimetype": "text/x-python",
   "name": "python",
   "nbconvert_exporter": "python",
   "pygments_lexer": "ipython3",
   "version": "3.7.2"
  }
 },
 "nbformat": 4,
 "nbformat_minor": 2
}
