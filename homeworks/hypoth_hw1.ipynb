{
 "cells": [
  {
   "cell_type": "markdown",
   "metadata": {},
   "source": [
    "# Homework 1\n",
    "***\n",
    "\n",
    "We are going to work with the following dataset: fluid current in a tube.\n",
    "Some statistics are collected for dataset, incl. mean, skewness, kurtosis, etc. We are predicting flow rate ('tohn/hour'). We need to build confidence and predictive intervals."
   ]
  },
  {
   "cell_type": "code",
   "execution_count": 24,
   "metadata": {},
   "outputs": [],
   "source": [
    "%matplotlib inline\n",
    "\n",
    "import numpy as np\n",
    "from sklearn import datasets, linear_model, preprocessing, model_selection\n",
    "from sklearn.utils import shuffle\n",
    "import matplotlib.pyplot as plt\n",
    "import pandas as pd"
   ]
  },
  {
   "cell_type": "code",
   "execution_count": 25,
   "metadata": {},
   "outputs": [],
   "source": [
    "df = pd.read_csv('exxsol_data.csv', sep=';', header=(0))"
   ]
  },
  {
   "cell_type": "markdown",
   "metadata": {},
   "source": [
    "There are 10 features and 1 label to predict:"
   ]
  },
  {
   "cell_type": "code",
   "execution_count": 26,
   "metadata": {},
   "outputs": [
    {
     "name": "stdout",
     "output_type": "stream",
     "text": [
      "['mean' 'std' 'skew' 'kurt' 'RMS' 'crest' 'freq_peak' 'shan' 'perm' 'temp'\n",
      " 'tohn/hour']\n"
     ]
    }
   ],
   "source": [
    "print(df.columns.values)"
   ]
  },
  {
   "cell_type": "code",
   "execution_count": 27,
   "metadata": {},
   "outputs": [],
   "source": [
    "y = df['tohn/hour']\n",
    "freq_temp = df[['freq_peak', 'temp']]"
   ]
  },
  {
   "cell_type": "markdown",
   "metadata": {},
   "source": [
    "Physics tells us that flow rate is a function of a frequency peak and temperature."
   ]
  },
  {
   "cell_type": "code",
   "execution_count": 28,
   "metadata": {},
   "outputs": [],
   "source": [
    "freq_temp, y = shuffle(freq_temp, y)\n",
    "\n",
    "# split data into training and testing sets\n",
    "#from sklearn.model_selection import train_test_split\n",
    "#train_freq, test_freq, train_y, test_y = train_test_split(freq, y, train_size=0.7, random_state=2)\n",
    "\n",
    "lr = linear_model.LinearRegression()\n",
    "predicted = model_selection.cross_val_predict(\n",
    "    lr, freq_temp, y.ravel(), cv=20)\n",
    "score = model_selection.cross_val_score(lr, freq_temp, y,\n",
    "                                         scoring='r2', cv=20)"
   ]
  },
  {
   "cell_type": "markdown",
   "metadata": {},
   "source": [
    "## Q0: Build point estimate for mean r2 score and its deviation"
   ]
  },
  {
   "cell_type": "code",
   "execution_count": 29,
   "metadata": {},
   "outputs": [
    {
     "name": "stdout",
     "output_type": "stream",
     "text": [
      "Mean R2: 0.8268699707067322\n",
      "Std R2: 0.074594916692097\n"
     ]
    }
   ],
   "source": [
    "mean_r2 = np.mean(score)\n",
    "std_r2 = np.std(score)\n",
    "# std_r2 = np.sqrt(np.mean(abs(score - mean_r2) ** 2))  # manual computation\n",
    "print('Mean R2:', mean_r2)\n",
    "print('Std R2: ', std_r2)"
   ]
  },
  {
   "cell_type": "markdown",
   "metadata": {},
   "source": [
    "## Q1: Predicted is an array with predictions of the label y. Assuming, that $\\sigma = 0.1$, compute 95% confidence and predictive interval for mean squared error. "
   ]
  },
  {
   "cell_type": "code",
   "execution_count": 30,
   "metadata": {},
   "outputs": [],
   "source": [
    "def plus_minus(base, diff):\n",
    "    return base - diff, base + diff"
   ]
  },
  {
   "cell_type": "code",
   "execution_count": 31,
   "metadata": {},
   "outputs": [
    {
     "name": "stdout",
     "output_type": "stream",
     "text": [
      "Confindence interval: [0.15915128157567132, 0.16671057103585585]\n",
      "Predictive interval:  [-0.03306907369423642, 0.3589309263057636]\n"
     ]
    }
   ],
   "source": [
    "sigma = 0.1\n",
    "num_samples = y.shape[0]\n",
    "mse = np.mean(np.array((predicted - y) ** 2))\n",
    "quantile_95 = 1.96\n",
    "print('Confindence interval: [{}, {}]'.format(*plus_minus(mse, sigma / np.sqrt(num_samples))))\n",
    "print('Predictive interval:  [{}, {}]'.format(*plus_minus(mse, quantile_95 * sigma)))"
   ]
  },
  {
   "cell_type": "markdown",
   "metadata": {},
   "source": [
    "## Q2:  Compute 95% confidence and predicted intervals for mean squared error, assuming no knowledge about $\\sigma$."
   ]
  },
  {
   "cell_type": "code",
   "execution_count": 32,
   "metadata": {},
   "outputs": [
    {
     "name": "stdout",
     "output_type": "stream",
     "text": [
      "Confindence interval: [0.13677054158145663, 0.18909131103007054]\n",
      "Predictive interval:  [-0.5292077955171285, 0.8550696481286556]\n"
     ]
    }
   ],
   "source": [
    "t = 1.984  # having 700 samples, 0.95 confidence level value of t is obtained\n",
    "           # from Student's distribution table for 100 samples (less than we have to ensure certainly)\n",
    "std = np.std(np.array((predicted - y) ** 2))\n",
    "print('Confindence interval: [{}, {}]'.format(*plus_minus(mse, t * std / np.sqrt(num_samples))))\n",
    "print('Predictive interval:  [{}, {}]'.format(*plus_minus(mse, t * std)))"
   ]
  },
  {
   "cell_type": "markdown",
   "metadata": {},
   "source": [
    "We can use additional features and more complex model, e.g. ElasticNet."
   ]
  },
  {
   "cell_type": "code",
   "execution_count": 33,
   "metadata": {},
   "outputs": [],
   "source": [
    "y = df['tohn/hour']\n",
    "X = df.drop(['tohn/hour'],axis=1)\n",
    "X = preprocessing.scale(X)\n",
    "X, y = shuffle(X, y)\n",
    "\n",
    "encv = linear_model.ElasticNetCV(cv=10, max_iter=3000, n_alphas=10)\n",
    "predicted_encv = model_selection.cross_val_predict(\n",
    "    encv, X, y.ravel(), cv=20)\n",
    "score_encv = model_selection.cross_val_score(encv,X, y.ravel(),\n",
    "                                         scoring='r2', cv=20)"
   ]
  },
  {
   "cell_type": "markdown",
   "metadata": {},
   "source": [
    "## Q3:  Compute 95% confidence interval for difference in means of mean squared error between 2 models, assuming no knowledge about $\\sigma$."
   ]
  },
  {
   "cell_type": "code",
   "execution_count": 34,
   "metadata": {},
   "outputs": [
    {
     "name": "stdout",
     "output_type": "stream",
     "text": [
      "Confindence interval: [-0.2688240989582027, 0.06236934655284773]\n",
      "Predictive interval:  [-4.4845048395869815, 4.278050087181627]\n"
     ]
    }
   ],
   "source": [
    "en_mse = np.mean(np.array((predicted_encv - y) ** 2))\n",
    "mean = np.mean(np.array(en_mse - mse))  # means of mean?\n",
    "t = 1.984  # having 700 samples, 0.95 confidence level value of t is obtained\n",
    "           # from Student's distribution table for 100 samples (less than we have to ensure certainly)\n",
    "std = np.std(np.array((predicted - y) ** 2) - np.array((predicted_encv - y) ** 2))\n",
    "print('Confindence interval: [{}, {}]'.format(*plus_minus(mean, t * std / np.sqrt(num_samples))))\n",
    "print('Predictive interval:  [{}, {}]'.format(*plus_minus(mean, t * std)))"
   ]
  }
 ],
 "metadata": {
  "kernelspec": {
   "display_name": "Python 3",
   "language": "python",
   "name": "python3"
  },
  "language_info": {
   "codemirror_mode": {
    "name": "ipython",
    "version": 3
   },
   "file_extension": ".py",
   "mimetype": "text/x-python",
   "name": "python",
   "nbconvert_exporter": "python",
   "pygments_lexer": "ipython3",
   "version": "3.6.8"
  }
 },
 "nbformat": 4,
 "nbformat_minor": 1
}
